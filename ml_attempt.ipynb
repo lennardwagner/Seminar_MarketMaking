{
 "cells": [
  {
   "cell_type": "code",
   "execution_count": null,
   "outputs": [],
   "source": [
    "import numpy as np\n",
    "import pandas as pd\n",
    "import tensorflow as tf\n"
   ],
   "metadata": {
    "collapsed": false,
    "pycharm": {
     "name": "#%%\n"
    }
   }
  },
  {
   "cell_type": "code",
   "execution_count": null,
   "outputs": [],
   "source": [
    "#pd.set_option('display.max_rows', None)\n",
    "#pd.set_option('display.max_columns', None)"
   ],
   "metadata": {
    "collapsed": false,
    "pycharm": {
     "name": "#%% settings\n"
    }
   }
  },
  {
   "cell_type": "code",
   "execution_count": null,
   "outputs": [],
   "source": [
    "data = pd.read_csv(\"adidas_L1Data.csv\")\n",
    "\n",
    "data.drop(data.columns[0], axis=1, inplace=True)\n",
    "data.drop(data.columns[0], axis=1, inplace=True)\n",
    "data.drop(data.columns[60], axis=1, inplace=True)\n",
    "data.rename(columns={\"61\":\"UP / DOWN\"}, inplace=True)\n",
    "  \n",
    "print(data.head())\n",
    "max_value = data.max().max()\n",
    "min_value = (data.min())[0:60].min()\n",
    "\n",
    "#print(max_value, min_value)"
   ],
   "metadata": {
    "collapsed": false,
    "pycharm": {
     "name": "#%% Data preperation\n"
    }
   }
  },
  {
   "cell_type": "markdown",
   "source": [
    "Datenbeschreibung: <br>\n",
    "Spalten 0-59: minütiger Preis <br>\n",
    "Spalte 60: 1, wenn der Preis eine Stunde später gestiegen ist, sonst 0\n",
    "\n",
    "**train data**: 75% --> $14400*0.75 = 10800$<br>\n",
    "**test data**: 25% --> $14400*0.25 = 3600$"
   ],
   "metadata": {
    "collapsed": false
   }
  },
  {
   "cell_type": "code",
   "execution_count": null,
   "outputs": [],
   "source": [
    "data.dropna(how=\"any\", inplace=True)\n",
    "len(data)\n",
    "train_data = data[:10800]\n",
    "test_data = data[10800:]\n"
   ],
   "metadata": {
    "collapsed": false,
    "pycharm": {
     "name": "#%%\n"
    }
   }
  },
  {
   "cell_type": "code",
   "execution_count": null,
   "outputs": [],
   "source": [
    "train_data_X = train_data[train_data.columns[:60]]\n",
    "train_data_Y = train_data[train_data.columns[60:]]\n",
    "\n",
    "test_data_X = test_data[test_data.columns[:60]]\n",
    "test_data_Y = test_data[test_data.columns[60:]]\n",
    "#todo create test data"
   ],
   "metadata": {
    "collapsed": false,
    "pycharm": {
     "name": "#%%\n"
    }
   }
  },
  {
   "cell_type": "code",
   "execution_count": null,
   "outputs": [],
   "source": [
    "train_data_X = (train_data_X - min_value) / (max_value - min_value)\n",
    "test_data_X = (test_data_X - min_value) / (max_value - min_value)\n",
    "\n",
    "train_data_X.head()\n",
    "\n"
   ],
   "metadata": {
    "collapsed": false,
    "pycharm": {
     "name": "#%% Normalization\n"
    }
   }
  },
  {
   "cell_type": "code",
   "execution_count": null,
   "outputs": [],
   "source": [
    "model = tf.keras.Sequential([\n",
    "    tf.keras.layers.Dense(1, input_dim=60, activation=\"sigmoid\")\n",
    "])"
   ],
   "metadata": {
    "collapsed": false,
    "pycharm": {
     "name": "#%% Model\n"
    }
   }
  },
  {
   "cell_type": "code",
   "execution_count": null,
   "outputs": [],
   "source": [
    "model.compile(loss=\"binary_crossentropy\",\n",
    "              optimizer=\"rmsprop\",\n",
    "              metrics=['accuracy'])\n"
   ],
   "metadata": {
    "collapsed": false,
    "pycharm": {
     "name": "#%%\n"
    }
   }
  },
  {
   "cell_type": "code",
   "execution_count": null,
   "outputs": [],
   "source": [
    "model.fit(x=train_data_X,\n",
    "          y=train_data_Y,\n",
    "          epochs=100)\n"
   ],
   "metadata": {
    "collapsed": false,
    "pycharm": {
     "name": "#%%\n"
    }
   }
  },
  {
   "cell_type": "code",
   "execution_count": null,
   "outputs": [],
   "source": [
    "print(test_data_Y[500:510])\n",
    "predictions = model.predict(test_data_X)\n",
    "print(predictions[500:510])\n"
   ],
   "metadata": {
    "collapsed": false,
    "pycharm": {
     "name": "#%% Predictions\n"
    }
   }
  }
 ],
 "metadata": {
  "kernelspec": {
   "display_name": "Python 3",
   "language": "python",
   "name": "python3"
  },
  "language_info": {
   "codemirror_mode": {
    "name": "ipython",
    "version": 2
   },
   "file_extension": ".py",
   "mimetype": "text/x-python",
   "name": "python",
   "nbconvert_exporter": "python",
   "pygments_lexer": "ipython2",
   "version": "2.7.6"
  }
 },
 "nbformat": 4,
 "nbformat_minor": 0
}